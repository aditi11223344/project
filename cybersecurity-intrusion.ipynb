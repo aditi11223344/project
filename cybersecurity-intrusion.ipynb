{
 "cells": [
  {
   "cell_type": "code",
   "execution_count": 1,
   "id": "d42d4798",
   "metadata": {
    "_cell_guid": "b1076dfc-b9ad-4769-8c92-a6c4dae69d19",
    "_uuid": "8f2839f25d086af736a60e9eeb907d3b93b6e0e5",
    "execution": {
     "iopub.execute_input": "2025-02-15T19:36:43.492132Z",
     "iopub.status.busy": "2025-02-15T19:36:43.491792Z",
     "iopub.status.idle": "2025-02-15T19:36:44.428482Z",
     "shell.execute_reply": "2025-02-15T19:36:44.427172Z"
    },
    "papermill": {
     "duration": 0.945228,
     "end_time": "2025-02-15T19:36:44.430246",
     "exception": false,
     "start_time": "2025-02-15T19:36:43.485018",
     "status": "completed"
    },
    "tags": []
   },
   "outputs": [
    {
     "name": "stdout",
     "output_type": "stream",
     "text": [
      "/kaggle/input/cybersecurity-intrusion-detection-dataset/cybersecurity_intrusion_data.csv\n"
     ]
    }
   ],
   "source": [
    "# This Python 3 environment comes with many helpful analytics libraries installed\n",
    "# It is defined by the kaggle/python Docker image: https://github.com/kaggle/docker-python\n",
    "# For example, here's several helpful packages to load\n",
    "\n",
    "import numpy as np # linear algebra\n",
    "import pandas as pd # data processing, CSV file I/O (e.g. pd.read_csv)\n",
    "\n",
    "# Input data files are available in the read-only \"../input/\" directory\n",
    "# For example, running this (by clicking run or pressing Shift+Enter) will list all files under the input directory\n",
    "\n",
    "import os\n",
    "for dirname, _, filenames in os.walk('/kaggle/input'):\n",
    "    for filename in filenames:\n",
    "        print(os.path.join(dirname, filename))\n",
    "\n",
    "# You can write up to 20GB to the current directory (/kaggle/working/) that gets preserved as output when you create a version using \"Save & Run All\" \n",
    "# You can also write temporary files to /kaggle/temp/, but they won't be saved outside of the current session"
   ]
  },
  {
   "cell_type": "markdown",
   "id": "4d8e75cc",
   "metadata": {
    "papermill": {
     "duration": 0.004798,
     "end_time": "2025-02-15T19:36:44.440251",
     "exception": false,
     "start_time": "2025-02-15T19:36:44.435453",
     "status": "completed"
    },
    "tags": []
   },
   "source": [
    "# Cybersecurity Intrusion Detection: A Machine Learning Approach\n",
    "\n",
    "## Data Exploration & Preprocessing\n",
    "We begin by loading the cybersecurity intrusion dataset and performing initial exploration:\n",
    "* Checked for missing values.\n",
    "* Examined data types and summary statistics.\n",
    "* Reset the index for easier manipulation.\n"
   ]
  },
  {
   "cell_type": "code",
   "execution_count": 2,
   "id": "57ff8571",
   "metadata": {
    "execution": {
     "iopub.execute_input": "2025-02-15T19:36:44.451631Z",
     "iopub.status.busy": "2025-02-15T19:36:44.451057Z",
     "iopub.status.idle": "2025-02-15T19:36:44.581250Z",
     "shell.execute_reply": "2025-02-15T19:36:44.580065Z"
    },
    "papermill": {
     "duration": 0.137907,
     "end_time": "2025-02-15T19:36:44.582890",
     "exception": false,
     "start_time": "2025-02-15T19:36:44.444983",
     "status": "completed"
    },
    "tags": []
   },
   "outputs": [
    {
     "data": {
      "text/html": [
       "<div>\n",
       "<style scoped>\n",
       "    .dataframe tbody tr th:only-of-type {\n",
       "        vertical-align: middle;\n",
       "    }\n",
       "\n",
       "    .dataframe tbody tr th {\n",
       "        vertical-align: top;\n",
       "    }\n",
       "\n",
       "    .dataframe thead th {\n",
       "        text-align: right;\n",
       "    }\n",
       "</style>\n",
       "<table border=\"1\" class=\"dataframe\">\n",
       "  <thead>\n",
       "    <tr style=\"text-align: right;\">\n",
       "      <th></th>\n",
       "      <th>network_packet_size</th>\n",
       "      <th>protocol_type</th>\n",
       "      <th>login_attempts</th>\n",
       "      <th>session_duration</th>\n",
       "      <th>encryption_used</th>\n",
       "      <th>ip_reputation_score</th>\n",
       "      <th>failed_logins</th>\n",
       "      <th>browser_type</th>\n",
       "      <th>unusual_time_access</th>\n",
       "      <th>attack_detected</th>\n",
       "    </tr>\n",
       "    <tr>\n",
       "      <th>session_id</th>\n",
       "      <th></th>\n",
       "      <th></th>\n",
       "      <th></th>\n",
       "      <th></th>\n",
       "      <th></th>\n",
       "      <th></th>\n",
       "      <th></th>\n",
       "      <th></th>\n",
       "      <th></th>\n",
       "      <th></th>\n",
       "    </tr>\n",
       "  </thead>\n",
       "  <tbody>\n",
       "    <tr>\n",
       "      <th>SID_00001</th>\n",
       "      <td>599</td>\n",
       "      <td>TCP</td>\n",
       "      <td>4</td>\n",
       "      <td>492.983263</td>\n",
       "      <td>DES</td>\n",
       "      <td>0.606818</td>\n",
       "      <td>1</td>\n",
       "      <td>Edge</td>\n",
       "      <td>0</td>\n",
       "      <td>1</td>\n",
       "    </tr>\n",
       "    <tr>\n",
       "      <th>SID_00002</th>\n",
       "      <td>472</td>\n",
       "      <td>TCP</td>\n",
       "      <td>3</td>\n",
       "      <td>1557.996461</td>\n",
       "      <td>DES</td>\n",
       "      <td>0.301569</td>\n",
       "      <td>0</td>\n",
       "      <td>Firefox</td>\n",
       "      <td>0</td>\n",
       "      <td>0</td>\n",
       "    </tr>\n",
       "    <tr>\n",
       "      <th>SID_00003</th>\n",
       "      <td>629</td>\n",
       "      <td>TCP</td>\n",
       "      <td>3</td>\n",
       "      <td>75.044262</td>\n",
       "      <td>DES</td>\n",
       "      <td>0.739164</td>\n",
       "      <td>2</td>\n",
       "      <td>Chrome</td>\n",
       "      <td>0</td>\n",
       "      <td>1</td>\n",
       "    </tr>\n",
       "    <tr>\n",
       "      <th>SID_00004</th>\n",
       "      <td>804</td>\n",
       "      <td>UDP</td>\n",
       "      <td>4</td>\n",
       "      <td>601.248835</td>\n",
       "      <td>DES</td>\n",
       "      <td>0.123267</td>\n",
       "      <td>0</td>\n",
       "      <td>Unknown</td>\n",
       "      <td>0</td>\n",
       "      <td>1</td>\n",
       "    </tr>\n",
       "    <tr>\n",
       "      <th>SID_00005</th>\n",
       "      <td>453</td>\n",
       "      <td>TCP</td>\n",
       "      <td>5</td>\n",
       "      <td>532.540888</td>\n",
       "      <td>AES</td>\n",
       "      <td>0.054874</td>\n",
       "      <td>1</td>\n",
       "      <td>Firefox</td>\n",
       "      <td>0</td>\n",
       "      <td>0</td>\n",
       "    </tr>\n",
       "  </tbody>\n",
       "</table>\n",
       "</div>"
      ],
      "text/plain": [
       "            network_packet_size protocol_type  login_attempts  \\\n",
       "session_id                                                      \n",
       "SID_00001                   599           TCP               4   \n",
       "SID_00002                   472           TCP               3   \n",
       "SID_00003                   629           TCP               3   \n",
       "SID_00004                   804           UDP               4   \n",
       "SID_00005                   453           TCP               5   \n",
       "\n",
       "            session_duration encryption_used  ip_reputation_score  \\\n",
       "session_id                                                          \n",
       "SID_00001         492.983263             DES             0.606818   \n",
       "SID_00002        1557.996461             DES             0.301569   \n",
       "SID_00003          75.044262             DES             0.739164   \n",
       "SID_00004         601.248835             DES             0.123267   \n",
       "SID_00005         532.540888             AES             0.054874   \n",
       "\n",
       "            failed_logins browser_type  unusual_time_access  attack_detected  \n",
       "session_id                                                                    \n",
       "SID_00001               1         Edge                    0                1  \n",
       "SID_00002               0      Firefox                    0                0  \n",
       "SID_00003               2       Chrome                    0                1  \n",
       "SID_00004               0      Unknown                    0                1  \n",
       "SID_00005               1      Firefox                    0                0  "
      ]
     },
     "metadata": {},
     "output_type": "display_data"
    },
    {
     "name": "stdout",
     "output_type": "stream",
     "text": [
      "<class 'pandas.core.frame.DataFrame'>\n",
      "Index: 9537 entries, SID_00001 to SID_09537\n",
      "Data columns (total 10 columns):\n",
      " #   Column               Non-Null Count  Dtype  \n",
      "---  ------               --------------  -----  \n",
      " 0   network_packet_size  9537 non-null   int64  \n",
      " 1   protocol_type        9537 non-null   object \n",
      " 2   login_attempts       9537 non-null   int64  \n",
      " 3   session_duration     9537 non-null   float64\n",
      " 4   encryption_used      7571 non-null   object \n",
      " 5   ip_reputation_score  9537 non-null   float64\n",
      " 6   failed_logins        9537 non-null   int64  \n",
      " 7   browser_type         9537 non-null   object \n",
      " 8   unusual_time_access  9537 non-null   int64  \n",
      " 9   attack_detected      9537 non-null   int64  \n",
      "dtypes: float64(2), int64(5), object(3)\n",
      "memory usage: 819.6+ KB\n"
     ]
    },
    {
     "data": {
      "text/plain": [
       "None"
      ]
     },
     "metadata": {},
     "output_type": "display_data"
    },
    {
     "data": {
      "text/plain": [
       "network_packet_size       0\n",
       "protocol_type             0\n",
       "login_attempts            0\n",
       "session_duration          0\n",
       "encryption_used        1966\n",
       "ip_reputation_score       0\n",
       "failed_logins             0\n",
       "browser_type              0\n",
       "unusual_time_access       0\n",
       "attack_detected           0\n",
       "dtype: int64"
      ]
     },
     "metadata": {},
     "output_type": "display_data"
    },
    {
     "data": {
      "text/plain": [
       "(9537, 10)"
      ]
     },
     "metadata": {},
     "output_type": "display_data"
    },
    {
     "data": {
      "text/html": [
       "<div>\n",
       "<style scoped>\n",
       "    .dataframe tbody tr th:only-of-type {\n",
       "        vertical-align: middle;\n",
       "    }\n",
       "\n",
       "    .dataframe tbody tr th {\n",
       "        vertical-align: top;\n",
       "    }\n",
       "\n",
       "    .dataframe thead th {\n",
       "        text-align: right;\n",
       "    }\n",
       "</style>\n",
       "<table border=\"1\" class=\"dataframe\">\n",
       "  <thead>\n",
       "    <tr style=\"text-align: right;\">\n",
       "      <th></th>\n",
       "      <th>count</th>\n",
       "      <th>mean</th>\n",
       "      <th>std</th>\n",
       "      <th>min</th>\n",
       "      <th>25%</th>\n",
       "      <th>50%</th>\n",
       "      <th>75%</th>\n",
       "      <th>max</th>\n",
       "    </tr>\n",
       "  </thead>\n",
       "  <tbody>\n",
       "    <tr>\n",
       "      <th>network_packet_size</th>\n",
       "      <td>9537.0</td>\n",
       "      <td>500.430639</td>\n",
       "      <td>198.379364</td>\n",
       "      <td>64.000000</td>\n",
       "      <td>365.000000</td>\n",
       "      <td>499.000000</td>\n",
       "      <td>635.000000</td>\n",
       "      <td>1285.000000</td>\n",
       "    </tr>\n",
       "    <tr>\n",
       "      <th>login_attempts</th>\n",
       "      <td>9537.0</td>\n",
       "      <td>4.032086</td>\n",
       "      <td>1.963012</td>\n",
       "      <td>1.000000</td>\n",
       "      <td>3.000000</td>\n",
       "      <td>4.000000</td>\n",
       "      <td>5.000000</td>\n",
       "      <td>13.000000</td>\n",
       "    </tr>\n",
       "    <tr>\n",
       "      <th>session_duration</th>\n",
       "      <td>9537.0</td>\n",
       "      <td>792.745312</td>\n",
       "      <td>786.560144</td>\n",
       "      <td>0.500000</td>\n",
       "      <td>231.953006</td>\n",
       "      <td>556.277457</td>\n",
       "      <td>1105.380602</td>\n",
       "      <td>7190.392213</td>\n",
       "    </tr>\n",
       "    <tr>\n",
       "      <th>ip_reputation_score</th>\n",
       "      <td>9537.0</td>\n",
       "      <td>0.331338</td>\n",
       "      <td>0.177175</td>\n",
       "      <td>0.002497</td>\n",
       "      <td>0.191946</td>\n",
       "      <td>0.314778</td>\n",
       "      <td>0.453388</td>\n",
       "      <td>0.924299</td>\n",
       "    </tr>\n",
       "    <tr>\n",
       "      <th>failed_logins</th>\n",
       "      <td>9537.0</td>\n",
       "      <td>1.517773</td>\n",
       "      <td>1.033988</td>\n",
       "      <td>0.000000</td>\n",
       "      <td>1.000000</td>\n",
       "      <td>1.000000</td>\n",
       "      <td>2.000000</td>\n",
       "      <td>5.000000</td>\n",
       "    </tr>\n",
       "    <tr>\n",
       "      <th>unusual_time_access</th>\n",
       "      <td>9537.0</td>\n",
       "      <td>0.149942</td>\n",
       "      <td>0.357034</td>\n",
       "      <td>0.000000</td>\n",
       "      <td>0.000000</td>\n",
       "      <td>0.000000</td>\n",
       "      <td>0.000000</td>\n",
       "      <td>1.000000</td>\n",
       "    </tr>\n",
       "    <tr>\n",
       "      <th>attack_detected</th>\n",
       "      <td>9537.0</td>\n",
       "      <td>0.447101</td>\n",
       "      <td>0.497220</td>\n",
       "      <td>0.000000</td>\n",
       "      <td>0.000000</td>\n",
       "      <td>0.000000</td>\n",
       "      <td>1.000000</td>\n",
       "      <td>1.000000</td>\n",
       "    </tr>\n",
       "  </tbody>\n",
       "</table>\n",
       "</div>"
      ],
      "text/plain": [
       "                      count        mean         std        min         25%  \\\n",
       "network_packet_size  9537.0  500.430639  198.379364  64.000000  365.000000   \n",
       "login_attempts       9537.0    4.032086    1.963012   1.000000    3.000000   \n",
       "session_duration     9537.0  792.745312  786.560144   0.500000  231.953006   \n",
       "ip_reputation_score  9537.0    0.331338    0.177175   0.002497    0.191946   \n",
       "failed_logins        9537.0    1.517773    1.033988   0.000000    1.000000   \n",
       "unusual_time_access  9537.0    0.149942    0.357034   0.000000    0.000000   \n",
       "attack_detected      9537.0    0.447101    0.497220   0.000000    0.000000   \n",
       "\n",
       "                            50%          75%          max  \n",
       "network_packet_size  499.000000   635.000000  1285.000000  \n",
       "login_attempts         4.000000     5.000000    13.000000  \n",
       "session_duration     556.277457  1105.380602  7190.392213  \n",
       "ip_reputation_score    0.314778     0.453388     0.924299  \n",
       "failed_logins          1.000000     2.000000     5.000000  \n",
       "unusual_time_access    0.000000     0.000000     1.000000  \n",
       "attack_detected        0.000000     1.000000     1.000000  "
      ]
     },
     "metadata": {},
     "output_type": "display_data"
    }
   ],
   "source": [
    "df1 = pd.read_csv(\"/kaggle/input/cybersecurity-intrusion-detection-dataset/cybersecurity_intrusion_data.csv\", index_col=0)\n",
    "\n",
    "display(df1.head())\n",
    "display(df1.info())\n",
    "display(df1.isnull().sum())\n",
    "display(df1.shape)\n",
    "display(df1.describe().T)"
   ]
  },
  {
   "cell_type": "code",
   "execution_count": 3,
   "id": "9cc69d28",
   "metadata": {
    "execution": {
     "iopub.execute_input": "2025-02-15T19:36:44.595894Z",
     "iopub.status.busy": "2025-02-15T19:36:44.595504Z",
     "iopub.status.idle": "2025-02-15T19:36:44.609863Z",
     "shell.execute_reply": "2025-02-15T19:36:44.608717Z"
    },
    "papermill": {
     "duration": 0.023122,
     "end_time": "2025-02-15T19:36:44.611901",
     "exception": false,
     "start_time": "2025-02-15T19:36:44.588779",
     "status": "completed"
    },
    "tags": []
   },
   "outputs": [
    {
     "data": {
      "text/html": [
       "<div>\n",
       "<style scoped>\n",
       "    .dataframe tbody tr th:only-of-type {\n",
       "        vertical-align: middle;\n",
       "    }\n",
       "\n",
       "    .dataframe tbody tr th {\n",
       "        vertical-align: top;\n",
       "    }\n",
       "\n",
       "    .dataframe thead th {\n",
       "        text-align: right;\n",
       "    }\n",
       "</style>\n",
       "<table border=\"1\" class=\"dataframe\">\n",
       "  <thead>\n",
       "    <tr style=\"text-align: right;\">\n",
       "      <th></th>\n",
       "      <th>session_id</th>\n",
       "      <th>network_packet_size</th>\n",
       "      <th>protocol_type</th>\n",
       "      <th>login_attempts</th>\n",
       "      <th>session_duration</th>\n",
       "      <th>encryption_used</th>\n",
       "      <th>ip_reputation_score</th>\n",
       "      <th>failed_logins</th>\n",
       "      <th>browser_type</th>\n",
       "      <th>unusual_time_access</th>\n",
       "      <th>attack_detected</th>\n",
       "    </tr>\n",
       "  </thead>\n",
       "  <tbody>\n",
       "    <tr>\n",
       "      <th>0</th>\n",
       "      <td>SID_00001</td>\n",
       "      <td>599</td>\n",
       "      <td>TCP</td>\n",
       "      <td>4</td>\n",
       "      <td>492.983263</td>\n",
       "      <td>DES</td>\n",
       "      <td>0.606818</td>\n",
       "      <td>1</td>\n",
       "      <td>Edge</td>\n",
       "      <td>0</td>\n",
       "      <td>1</td>\n",
       "    </tr>\n",
       "    <tr>\n",
       "      <th>1</th>\n",
       "      <td>SID_00002</td>\n",
       "      <td>472</td>\n",
       "      <td>TCP</td>\n",
       "      <td>3</td>\n",
       "      <td>1557.996461</td>\n",
       "      <td>DES</td>\n",
       "      <td>0.301569</td>\n",
       "      <td>0</td>\n",
       "      <td>Firefox</td>\n",
       "      <td>0</td>\n",
       "      <td>0</td>\n",
       "    </tr>\n",
       "    <tr>\n",
       "      <th>2</th>\n",
       "      <td>SID_00003</td>\n",
       "      <td>629</td>\n",
       "      <td>TCP</td>\n",
       "      <td>3</td>\n",
       "      <td>75.044262</td>\n",
       "      <td>DES</td>\n",
       "      <td>0.739164</td>\n",
       "      <td>2</td>\n",
       "      <td>Chrome</td>\n",
       "      <td>0</td>\n",
       "      <td>1</td>\n",
       "    </tr>\n",
       "    <tr>\n",
       "      <th>3</th>\n",
       "      <td>SID_00004</td>\n",
       "      <td>804</td>\n",
       "      <td>UDP</td>\n",
       "      <td>4</td>\n",
       "      <td>601.248835</td>\n",
       "      <td>DES</td>\n",
       "      <td>0.123267</td>\n",
       "      <td>0</td>\n",
       "      <td>Unknown</td>\n",
       "      <td>0</td>\n",
       "      <td>1</td>\n",
       "    </tr>\n",
       "    <tr>\n",
       "      <th>4</th>\n",
       "      <td>SID_00005</td>\n",
       "      <td>453</td>\n",
       "      <td>TCP</td>\n",
       "      <td>5</td>\n",
       "      <td>532.540888</td>\n",
       "      <td>AES</td>\n",
       "      <td>0.054874</td>\n",
       "      <td>1</td>\n",
       "      <td>Firefox</td>\n",
       "      <td>0</td>\n",
       "      <td>0</td>\n",
       "    </tr>\n",
       "  </tbody>\n",
       "</table>\n",
       "</div>"
      ],
      "text/plain": [
       "  session_id  network_packet_size protocol_type  login_attempts  \\\n",
       "0  SID_00001                  599           TCP               4   \n",
       "1  SID_00002                  472           TCP               3   \n",
       "2  SID_00003                  629           TCP               3   \n",
       "3  SID_00004                  804           UDP               4   \n",
       "4  SID_00005                  453           TCP               5   \n",
       "\n",
       "   session_duration encryption_used  ip_reputation_score  failed_logins  \\\n",
       "0        492.983263             DES             0.606818              1   \n",
       "1       1557.996461             DES             0.301569              0   \n",
       "2         75.044262             DES             0.739164              2   \n",
       "3        601.248835             DES             0.123267              0   \n",
       "4        532.540888             AES             0.054874              1   \n",
       "\n",
       "  browser_type  unusual_time_access  attack_detected  \n",
       "0         Edge                    0                1  \n",
       "1      Firefox                    0                0  \n",
       "2       Chrome                    0                1  \n",
       "3      Unknown                    0                1  \n",
       "4      Firefox                    0                0  "
      ]
     },
     "metadata": {},
     "output_type": "display_data"
    }
   ],
   "source": [
    "# Reset index and make the old index a column\n",
    "df = df1.reset_index()\n",
    "\n",
    "# Display the updated DataFrame\n",
    "display(df.head())\n"
   ]
  },
  {
   "cell_type": "markdown",
   "id": "26aa7786",
   "metadata": {
    "papermill": {
     "duration": 0.005931,
     "end_time": "2025-02-15T19:36:44.623775",
     "exception": false,
     "start_time": "2025-02-15T19:36:44.617844",
     "status": "completed"
    },
    "tags": []
   },
   "source": [
    "Next, we visualized **attack_detected** distribution using a bar chart, showing a fairly balanced dataset:\n",
    "* 5273 (No Attack) vs. 4264 (Attack)\n",
    "\n",
    "To understand feature relationships, we generated a **correlation heatmap**, identifying key numerical correlations."
   ]
  },
  {
   "cell_type": "code",
   "execution_count": 4,
   "id": "73e0857b",
   "metadata": {
    "execution": {
     "iopub.execute_input": "2025-02-15T19:36:44.636920Z",
     "iopub.status.busy": "2025-02-15T19:36:44.636517Z",
     "iopub.status.idle": "2025-02-15T19:36:44.645636Z",
     "shell.execute_reply": "2025-02-15T19:36:44.644453Z"
    },
    "papermill": {
     "duration": 0.017796,
     "end_time": "2025-02-15T19:36:44.647538",
     "exception": false,
     "start_time": "2025-02-15T19:36:44.629742",
     "status": "completed"
    },
    "tags": []
   },
   "outputs": [
    {
     "data": {
      "text/plain": [
       "attack_detected\n",
       "0    5273\n",
       "1    4264\n",
       "Name: count, dtype: int64"
      ]
     },
     "execution_count": 4,
     "metadata": {},
     "output_type": "execute_result"
    }
   ],
   "source": [
    "attack_counts = df.attack_detected.value_counts()\n",
    "attack_counts"
   ]
  },
  {
   "cell_type": "code",
   "execution_count": 5,
   "id": "0d038fd0",
   "metadata": {
    "execution": {
     "iopub.execute_input": "2025-02-15T19:36:44.661209Z",
     "iopub.status.busy": "2025-02-15T19:36:44.660867Z",
     "iopub.status.idle": "2025-02-15T19:36:44.970517Z",
     "shell.execute_reply": "2025-02-15T19:36:44.969463Z"
    },
    "papermill": {
     "duration": 0.318605,
     "end_time": "2025-02-15T19:36:44.972438",
     "exception": false,
     "start_time": "2025-02-15T19:36:44.653833",
     "status": "completed"
    },
    "tags": []
   },
   "outputs": [
    {
     "data": {
      "image/png": "[encoded data removed]",
      "text/plain": [
       "<Figure size 600x400 with 1 Axes>"
      ]
     },
     "metadata": {},
     "output_type": "display_data"
    }
   ],
   "source": [
    "import matplotlib.pyplot as plt\n",
    "\n",
    "plt.figure(figsize=(6,4))\n",
    "attack_counts.plot(kind='bar', color=['green', 'red'])\n",
    "plt.xlabel(\"Attack Detected\")\n",
    "plt.ylabel(\"Count\")\n",
    "plt.title(\"Attack Detection Count\")\n",
    "plt.xticks(rotation=0)\n",
    "plt.grid(axis='y', linestyle=\"--\", alpha=0.7)\n",
    "\n",
    "plt.show()"
   ]
  },
  {
   "cell_type": "code",
   "execution_count": 6,
   "id": "99faed78",
   "metadata": {
    "execution": {
     "iopub.execute_input": "2025-02-15T19:36:44.987116Z",
     "iopub.status.busy": "2025-02-15T19:36:44.986772Z",
     "iopub.status.idle": "2025-02-15T19:36:47.031770Z",
     "shell.execute_reply": "2025-02-15T19:36:47.030669Z"
    },
    "papermill": {
     "duration": 2.054669,
     "end_time": "2025-02-15T19:36:47.033714",
     "exception": false,
     "start_time": "2025-02-15T19:36:44.979045",
     "status": "completed"
    },
    "tags": []
   },
   "outputs": [
    {
     "data": {
      "image/png": "[encoded data removed]",
      "text/plain": [
       "<Figure size 1000x600 with 2 Axes>"
      ]
     },
     "metadata": {},
     "output_type": "display_data"
    }
   ],
   "source": [
    "import seaborn as sns\n",
    "\n",
    "df_numeric = df.select_dtypes(include=np.number) \n",
    "\n",
    "# Compute the correlation matrix\n",
    "corr_matrix = df_numeric.corr()\n",
    "\n",
    "# Set figure size\n",
    "plt.figure(figsize=(10, 6))\n",
    "\n",
    "# Create heatmap\n",
    "sns.heatmap(corr_matrix, annot=True, cmap=\"coolwarm\", fmt=\".2f\", linewidths=0.5)\n",
    "\n",
    "# Title\n",
    "plt.title(\"Feature Correlation Heatmap\")\n",
    "\n",
    "# Show plot\n",
    "plt.show()\n"
   ]
  },
  {
   "cell_type": "markdown",
   "id": "3e7c50c4",
   "metadata": {
    "papermill": {
     "duration": 0.007847,
     "end_time": "2025-02-15T19:36:47.050179",
     "exception": false,
     "start_time": "2025-02-15T19:36:47.042332",
     "status": "completed"
    },
    "tags": []
   },
   "source": [
    "## Pipeline\n",
    "\n",
    "In this workflow, we aim to predict the likelihood of an attack using features selected based on a previous heatmap analysis. These features include numerical indicators like **login attempts, IP reputation score, and failed logins**, alongside categorical attributes such as **protocol type, encryption used, and browser type**.  \n",
    "\n",
    "To ensure a structured approach, we first split the dataset into **80% training and 20% testing**. Then, we define a **preprocessing pipeline**:  \n",
    "- **Numerical features** are standardized using `StandardScaler` to normalize their scales.  \n",
    "- **Categorical features** are encoded with `OneHotEncoder` to handle non-numeric values.  \n",
    "\n",
    "This transformation is applied using a `ColumnTransformer`, ensuring that both feature types are processed correctly before training. The transformed data is then passed into an `XGBRegressor`, a powerful gradient boosting model optimized for tabular data.  \n",
    "\n",
    "The entire process—from preprocessing to model training—is wrapped in a `Pipeline`, allowing seamless execution and minimizing the risk of data leakage. Once trained, the model makes predictions on the test set, confirming that the pipeline is successfully implemented and ready for evaluation. "
   ]
  },
  {
   "cell_type": "code",
   "execution_count": 7,
   "id": "2900251e",
   "metadata": {
    "execution": {
     "iopub.execute_input": "2025-02-15T19:36:47.067705Z",
     "iopub.status.busy": "2025-02-15T19:36:47.067119Z",
     "iopub.status.idle": "2025-02-15T19:36:47.840949Z",
     "shell.execute_reply": "2025-02-15T19:36:47.837121Z"
    },
    "papermill": {
     "duration": 0.78495,
     "end_time": "2025-02-15T19:36:47.843227",
     "exception": false,
     "start_time": "2025-02-15T19:36:47.058277",
     "status": "completed"
    },
    "tags": []
   },
   "outputs": [
    {
     "name": "stdout",
     "output_type": "stream",
     "text": [
      "Pipeline successfully trained!\n"
     ]
    }
   ],
   "source": [
    "from sklearn.model_selection import train_test_split\n",
    "from sklearn.pipeline import Pipeline\n",
    "from sklearn.compose import ColumnTransformer\n",
    "from sklearn.preprocessing import StandardScaler, OneHotEncoder\n",
    "from xgboost import XGBRegressor\n",
    "\n",
    "# Features and targe\n",
    "features = ['login_attempts', 'ip_reputation_score', 'failed_logins', 'protocol_type', 'encryption_used', 'browser_type']\n",
    "y = df['attack_detected']\n",
    "X = df[features]\n",
    "\n",
    "# Define feature types\n",
    "numerical_features = ['login_attempts', 'ip_reputation_score', 'failed_logins']\n",
    "categorical_features = ['protocol_type', 'encryption_used', 'browser_type']\n",
    "\n",
    "# Split data (80% train, 20% test)\n",
    "X_train, X_test, y_train, y_test = train_test_split(X, y, test_size=0.2, random_state=42)\n",
    "\n",
    "# Preprocessing pipeline\n",
    "preprocessor = ColumnTransformer([\n",
    "    ('num', StandardScaler(), numerical_features),\n",
    "    ('cat', OneHotEncoder(handle_unknown='ignore'), categorical_features)\n",
    "])\n",
    "\n",
    "# Full pipeline with XGBRegressor\n",
    "pipeline = Pipeline([\n",
    "    ('preprocessing', preprocessor),\n",
    "    ('model', XGBRegressor(n_estimators=100, learning_rate=0.05, random_state=42))\n",
    "])\n",
    "\n",
    "# Train the model\n",
    "pipeline.fit(X_train, y_train)\n",
    "\n",
    "# Predictions\n",
    "y_pred = pipeline.predict(X_test)\n",
    "\n",
    "# Show pipeline summary\n",
    "print(\"Pipeline successfully trained!\")\n"
   ]
  },
  {
   "cell_type": "markdown",
   "id": "833c816d",
   "metadata": {
    "papermill": {
     "duration": 0.008249,
     "end_time": "2025-02-15T19:36:47.860278",
     "exception": false,
     "start_time": "2025-02-15T19:36:47.852029",
     "status": "completed"
    },
    "tags": []
   },
   "source": [
    "## Training\n",
    "After training our initial `XGBRegressor` model, we evaluated its performance using **Mean Absolute Error (MAE)**. The model achieved an MAE of **0.1845**, significantly outperforming the baseline model (**0.4950**), which simply predicted the mean of `y_train`.  \n",
    "\n",
    "To further optimize the model, we performed **GridSearchCV**, systematically testing different hyperparameter combinations. The best parameters—**500 estimators, 0.01 learning rate, and max depth of 7**—slightly improved the MAE to **0.1836**.  \n",
    "\n",
    "For a more efficient search, we then used **RandomizedSearchCV**, exploring a wider range of hyperparameters with 20 iterations. The best model, with **400 estimators, 0.01625 learning rate, and max depth of 7**, resulted in an MAE of **0.1852**, close to the GridSearch result.  \n",
    "\n",
    "These optimizations show that while hyperparameter tuning helps refine model performance, the initial pipeline already provided strong results. "
   ]
  },
  {
   "cell_type": "code",
   "execution_count": 8,
   "id": "187029a8",
   "metadata": {
    "execution": {
     "iopub.execute_input": "2025-02-15T19:36:47.878857Z",
     "iopub.status.busy": "2025-02-15T19:36:47.878499Z",
     "iopub.status.idle": "2025-02-15T19:36:47.896664Z",
     "shell.execute_reply": "2025-02-15T19:36:47.894611Z"
    },
    "papermill": {
     "duration": 0.029521,
     "end_time": "2025-02-15T19:36:47.898369",
     "exception": false,
     "start_time": "2025-02-15T19:36:47.868848",
     "status": "completed"
    },
    "tags": []
   },
   "outputs": [
    {
     "name": "stdout",
     "output_type": "stream",
     "text": [
      "MAE (XGBRegressor Model): 0.1845\n",
      "MAE (Baseline - Mean Prediction): 0.4950\n"
     ]
    }
   ],
   "source": [
    "from sklearn.metrics import mean_absolute_error\n",
    "\n",
    "# Predictions from our pipeline\n",
    "y_pred = pipeline.predict(X_test)\n",
    "\n",
    "# Baseline model: predict the mean of y_train\n",
    "baseline_pred = np.full(shape=y_test.shape, fill_value=y_train.mean())\n",
    "\n",
    "# Compute MAE\n",
    "mae_pipeline = mean_absolute_error(y_test, y_pred)\n",
    "mae_baseline = mean_absolute_error(y_test, baseline_pred)\n",
    "\n",
    "print(f\"MAE (XGBRegressor Model): {mae_pipeline:.4f}\")\n",
    "print(f\"MAE (Baseline - Mean Prediction): {mae_baseline:.4f}\")\n"
   ]
  },
  {
   "cell_type": "code",
   "execution_count": 9,
   "id": "1120eb1d",
   "metadata": {
    "execution": {
     "iopub.execute_input": "2025-02-15T19:36:47.917082Z",
     "iopub.status.busy": "2025-02-15T19:36:47.916714Z",
     "iopub.status.idle": "2025-02-15T19:37:05.335241Z",
     "shell.execute_reply": "2025-02-15T19:37:05.333030Z"
    },
    "papermill": {
     "duration": 17.429748,
     "end_time": "2025-02-15T19:37:05.337205",
     "exception": false,
     "start_time": "2025-02-15T19:36:47.907457",
     "status": "completed"
    },
    "tags": []
   },
   "outputs": [
    {
     "name": "stdout",
     "output_type": "stream",
     "text": [
      "Fitting 5 folds for each of 27 candidates, totalling 135 fits\n",
      "Best Parameters: {'model__learning_rate': 0.01, 'model__max_depth': 7, 'model__n_estimators': 500}\n",
      "Best Model MAE: 0.1836\n"
     ]
    }
   ],
   "source": [
    "from sklearn.model_selection import GridSearchCV\n",
    "\n",
    "# Define hyperparameter grid\n",
    "param_grid = {\n",
    "    'model__n_estimators': [100, 300, 500],\n",
    "    'model__learning_rate': [0.01, 0.05, 0.1],\n",
    "    'model__max_depth': [3, 5, 7]\n",
    "}\n",
    "\n",
    "# GridSearchCV setup\n",
    "grid_search = GridSearchCV(pipeline, param_grid, cv=5, scoring='neg_mean_absolute_error', n_jobs=-1, verbose=2)\n",
    "\n",
    "# Run GridSearchCV\n",
    "grid_search.fit(X_train, y_train)\n",
    "\n",
    "# Best parameters\n",
    "print(\"Best Parameters:\", grid_search.best_params_)\n",
    "\n",
    "# Best model MAE\n",
    "best_model = grid_search.best_estimator_\n",
    "y_pred_best = best_model.predict(X_test)\n",
    "mae_best = mean_absolute_error(y_test, y_pred_best)\n",
    "\n",
    "print(f\"Best Model MAE: {mae_best:.4f}\")\n"
   ]
  },
  {
   "cell_type": "code",
   "execution_count": 10,
   "id": "59bcb26a",
   "metadata": {
    "execution": {
     "iopub.execute_input": "2025-02-15T19:37:05.355682Z",
     "iopub.status.busy": "2025-02-15T19:37:05.355210Z",
     "iopub.status.idle": "2025-02-15T19:37:20.933659Z",
     "shell.execute_reply": "2025-02-15T19:37:20.932717Z"
    },
    "papermill": {
     "duration": 15.589735,
     "end_time": "2025-02-15T19:37:20.935624",
     "exception": false,
     "start_time": "2025-02-15T19:37:05.345889",
     "status": "completed"
    },
    "tags": []
   },
   "outputs": [
    {
     "name": "stdout",
     "output_type": "stream",
     "text": [
      "Fitting 5 folds for each of 20 candidates, totalling 100 fits\n",
      "Best Parameters: {'model__subsample': 1.0, 'model__n_estimators': 400, 'model__max_depth': 7, 'model__learning_rate': 0.01625, 'model__colsample_bytree': 1.0}\n",
      "Best Model MAE (RandomizedSearch): 0.1852\n"
     ]
    }
   ],
   "source": [
    "from sklearn.model_selection import RandomizedSearchCV\n",
    "import numpy as np\n",
    "\n",
    "# Define parameter distributions\n",
    "param_dist = {\n",
    "    'model__n_estimators': np.arange(100, 600, 100),\n",
    "    'model__learning_rate': np.linspace(0.005, 0.05, 5),\n",
    "    'model__max_depth': np.arange(3, 10, 2),\n",
    "    'model__subsample': np.linspace(0.6, 1.0, 5),\n",
    "    'model__colsample_bytree': np.linspace(0.6, 1.0, 5)\n",
    "}\n",
    "\n",
    "# RandomizedSearchCV setup (n_iter=20 to keep it efficient)\n",
    "random_search = RandomizedSearchCV(\n",
    "    pipeline, param_distributions=param_dist, n_iter=20, \n",
    "    cv=5, scoring='neg_mean_absolute_error', n_jobs=-1, random_state=42, verbose=2\n",
    ")\n",
    "\n",
    "# Run RandomizedSearchCV\n",
    "random_search.fit(X_train, y_train)\n",
    "\n",
    "# Best parameters & MAE\n",
    "print(\"Best Parameters:\", random_search.best_params_)\n",
    "\n",
    "# Best model evaluation\n",
    "best_model_random = random_search.best_estimator_\n",
    "y_pred_best_random = best_model_random.predict(X_test)\n",
    "mae_best_random = mean_absolute_error(y_test, y_pred_best_random)\n",
    "\n",
    "print(f\"Best Model MAE (RandomizedSearch): {mae_best_random:.4f}\")\n"
   ]
  },
  {
   "cell_type": "markdown",
   "id": "b3c31908",
   "metadata": {
    "papermill": {
     "duration": 0.008096,
     "end_time": "2025-02-15T19:37:20.952275",
     "exception": false,
     "start_time": "2025-02-15T19:37:20.944179",
     "status": "completed"
    },
    "tags": []
   },
   "source": [
    "## SHAP\n",
    "\n",
    "After selecting the best model through **hyperparameter tuning**, we move on to understanding its decision-making process. While the heatmap we previously used helped us identify feature correlations, it did not reveal how individual features influence model predictions. To address this, we leverage SHAP (SHapley Additive exPlanations), a powerful tool for interpreting complex models like XGBoost.  \n",
    "\n",
    "First, we extract the trained `XGBRegressor` from the pipeline and apply the same preprocessing transformations to our test data. Then, we use SHAP to compute feature contributions for each prediction. The summary plot visualizes the impact of each feature, allowing us to interpret which factors drive our model’s decisions. This step enhances our model transparency, ensuring our insights align with real-world expectations."
   ]
  },
  {
   "cell_type": "code",
   "execution_count": 11,
   "id": "10596247",
   "metadata": {
    "execution": {
     "iopub.execute_input": "2025-02-15T19:37:20.970207Z",
     "iopub.status.busy": "2025-02-15T19:37:20.969860Z",
     "iopub.status.idle": "2025-02-15T19:37:26.427135Z",
     "shell.execute_reply": "2025-02-15T19:37:26.425838Z"
    },
    "papermill": {
     "duration": 5.468795,
     "end_time": "2025-02-15T19:37:26.429532",
     "exception": false,
     "start_time": "2025-02-15T19:37:20.960737",
     "status": "completed"
    },
    "tags": []
   },
   "outputs": [
    {
     "name": "stdout",
     "output_type": "stream",
     "text": [
      "Requirement already satisfied: shap in /usr/local/lib/python3.10/dist-packages (0.44.1)\r\n",
      "Requirement already satisfied: numpy in /usr/local/lib/python3.10/dist-packages (from shap) (1.26.4)\r\n",
      "Requirement already satisfied: scipy in /usr/local/lib/python3.10/dist-packages (from shap) (1.13.1)\r\n",
      "Requirement already satisfied: scikit-learn in /usr/local/lib/python3.10/dist-packages (from shap) (1.2.2)\r\n",
      "Requirement already satisfied: pandas in /usr/local/lib/python3.10/dist-packages (from shap) (2.2.3)\r\n",
      "Requirement already satisfied: tqdm>=4.27.0 in /usr/local/lib/python3.10/dist-packages (from shap) (4.67.1)\r\n",
      "Requirement already satisfied: packaging>20.9 in /usr/local/lib/python3.10/dist-packages (from shap) (24.2)\r\n",
      "Requirement already satisfied: slicer==0.0.7 in /usr/local/lib/python3.10/dist-packages (from shap) (0.0.7)\r\n",
      "Requirement already satisfied: numba in /usr/local/lib/python3.10/dist-packages (from shap) (0.60.0)\r\n",
      "Requirement already satisfied: cloudpickle in /usr/local/lib/python3.10/dist-packages (from shap) (3.1.0)\r\n",
      "Requirement already satisfied: llvmlite<0.44,>=0.43.0dev0 in /usr/local/lib/python3.10/dist-packages (from numba->shap) (0.43.0)\r\n",
      "Requirement already satisfied: mkl_fft in /usr/local/lib/python3.10/dist-packages (from numpy->shap) (1.3.8)\r\n",
      "Requirement already satisfied: mkl_random in /usr/local/lib/python3.10/dist-packages (from numpy->shap) (1.2.4)\r\n",
      "Requirement already satisfied: mkl_umath in /usr/local/lib/python3.10/dist-packages (from numpy->shap) (0.1.1)\r\n",
      "Requirement already satisfied: mkl in /usr/local/lib/python3.10/dist-packages (from numpy->shap) (2025.0.1)\r\n",
      "Requirement already satisfied: tbb4py in /usr/local/lib/python3.10/dist-packages (from numpy->shap) (2022.0.0)\r\n",
      "Requirement already satisfied: mkl-service in /usr/local/lib/python3.10/dist-packages (from numpy->shap) (2.4.1)\r\n",
      "Requirement already satisfied: python-dateutil>=2.8.2 in /usr/local/lib/python3.10/dist-packages (from pandas->shap) (2.9.0.post0)\r\n",
      "Requirement already satisfied: pytz>=2020.1 in /usr/local/lib/python3.10/dist-packages (from pandas->shap) (2025.1)\r\n",
      "Requirement already satisfied: tzdata>=2022.7 in /usr/local/lib/python3.10/dist-packages (from pandas->shap) (2025.1)\r\n",
      "Requirement already satisfied: joblib>=1.1.1 in /usr/local/lib/python3.10/dist-packages (from scikit-learn->shap) (1.4.2)\r\n",
      "Requirement already satisfied: threadpoolctl>=2.0.0 in /usr/local/lib/python3.10/dist-packages (from scikit-learn->shap) (3.5.0)\r\n",
      "Requirement already satisfied: six>=1.5 in /usr/local/lib/python3.10/dist-packages (from python-dateutil>=2.8.2->pandas->shap) (1.17.0)\r\n",
      "Requirement already satisfied: intel-openmp>=2024 in /usr/local/lib/python3.10/dist-packages (from mkl->numpy->shap) (2024.2.0)\r\n",
      "Requirement already satisfied: tbb==2022.* in /usr/local/lib/python3.10/dist-packages (from mkl->numpy->shap) (2022.0.0)\r\n",
      "Requirement already satisfied: tcmlib==1.* in /usr/local/lib/python3.10/dist-packages (from tbb==2022.*->mkl->numpy->shap) (1.2.0)\r\n",
      "Requirement already satisfied: intel-cmplr-lib-rt in /usr/local/lib/python3.10/dist-packages (from mkl_umath->numpy->shap) (2024.2.0)\r\n",
      "Requirement already satisfied: intel-cmplr-lib-ur==2024.2.0 in /usr/local/lib/python3.10/dist-packages (from intel-openmp>=2024->mkl->numpy->shap) (2024.2.0)\r\n"
     ]
    }
   ],
   "source": [
    "!pip install shap"
   ]
  },
  {
   "cell_type": "code",
   "execution_count": 12,
   "id": "333274bd",
   "metadata": {
    "execution": {
     "iopub.execute_input": "2025-02-15T19:37:26.450445Z",
     "iopub.status.busy": "2025-02-15T19:37:26.450016Z",
     "iopub.status.idle": "2025-02-15T19:37:56.232594Z",
     "shell.execute_reply": "2025-02-15T19:37:56.231432Z"
    },
    "papermill": {
     "duration": 29.79547,
     "end_time": "2025-02-15T19:37:56.234525",
     "exception": false,
     "start_time": "2025-02-15T19:37:26.439055",
     "status": "completed"
    },
    "tags": []
   },
   "outputs": [
    {
     "name": "stderr",
     "output_type": "stream",
     "text": [
      " 98%|===================| 1862/1908 [00:21<00:00]       "
     ]
    },
    {
     "data": {
      "image/png": "[encoded data removed]",
      "text/plain": [
       "<Figure size 800x710 with 2 Axes>"
      ]
     },
     "metadata": {},
     "output_type": "display_data"
    }
   ],
   "source": [
    "import shap\n",
    "import matplotlib.pyplot as plt\n",
    "\n",
    "# Extract the trained XGBoost model from the pipeline\n",
    "xgb_model = best_model.named_steps[\"model\"]\n",
    "\n",
    "# Extract preprocessing step from pipeline\n",
    "preprocessor = best_model.named_steps[\"preprocessing\"]\n",
    "\n",
    "# Transform X_test using the fitted preprocessor\n",
    "X_test_transformed = preprocessor.transform(X_test)\n",
    "\n",
    "# Convert to DataFrame for SHAP (optional, helps readability)\n",
    "import pandas as pd\n",
    "X_test_transformed = pd.DataFrame(X_test_transformed)\n",
    "\n",
    "# Initialize SHAP explainer with XGB model\n",
    "explainer = shap.Explainer(xgb_model, X_test_transformed)\n",
    "\n",
    "# Compute SHAP values\n",
    "shap_values = explainer(X_test_transformed)\n",
    "\n",
    "# Summary plot\n",
    "shap.summary_plot(shap_values, X_test_transformed)\n"
   ]
  },
  {
   "cell_type": "markdown",
   "id": "ae2a7ed7",
   "metadata": {
    "papermill": {
     "duration": 0.01013,
     "end_time": "2025-02-15T19:37:56.256237",
     "exception": false,
     "start_time": "2025-02-15T19:37:56.246107",
     "status": "completed"
    },
    "tags": []
   },
   "source": [
    "## Refining our Model\n",
    "\n",
    "To further refine our model and improve interpretability, we first extract the actual feature names used in training. Since categorical variables are transformed through one-hot encoding, we retrieve their encoded versions to understand their impact. By identifying the most important features, we gain insights into which factors contribute most to the model’s predictions.  \n",
    "\n",
    "Next, we simplify our feature selection based on SHAP insights, keeping only the most influential variables. We preprocess the categorical ‘browser_type’ feature using one-hot encoding while ensuring no redundancy by dropping the first category. After merging numerical and transformed categorical features, we retrain the XGBRegressor with optimized hyperparameters. The updated model achieves a slightly **improved MAE**, confirming that focusing on key features enhances performance while maintaining accuracy."
   ]
  },
  {
   "cell_type": "code",
   "execution_count": 13,
   "id": "a567e33a",
   "metadata": {
    "execution": {
     "iopub.execute_input": "2025-02-15T19:37:56.279088Z",
     "iopub.status.busy": "2025-02-15T19:37:56.278474Z",
     "iopub.status.idle": "2025-02-15T19:37:56.286055Z",
     "shell.execute_reply": "2025-02-15T19:37:56.284790Z"
    },
    "papermill": {
     "duration": 0.020953,
     "end_time": "2025-02-15T19:37:56.287720",
     "exception": false,
     "start_time": "2025-02-15T19:37:56.266767",
     "status": "completed"
    },
    "tags": []
   },
   "outputs": [
    {
     "name": "stdout",
     "output_type": "stream",
     "text": [
      "Most important features: ['browser_type_Unknown', 'ip_reputation_score', 'login_attempts', 'failed_logins']\n"
     ]
    }
   ],
   "source": [
    "# Extract numerical & categorical feature names\n",
    "num_features = ['login_attempts', 'ip_reputation_score', 'failed_logins']\n",
    "cat_features = ['protocol_type', 'encryption_used', 'browser_type']\n",
    "\n",
    "# Get one-hot encoded feature names\n",
    "cat_feature_names = best_model.named_steps[\"preprocessing\"].named_transformers_[\"cat\"].get_feature_names_out(cat_features)\n",
    "\n",
    "# Combine all transformed feature names\n",
    "all_feature_names = list(num_features) + list(cat_feature_names)\n",
    "\n",
    "# Print the actual feature names corresponding to indices 13, 1, 0, 2\n",
    "important_features = [all_feature_names[i] for i in [13, 1, 0, 2]]\n",
    "print(\"Most important features:\", important_features)\n"
   ]
  },
  {
   "cell_type": "code",
   "execution_count": 14,
   "id": "3b988dbf",
   "metadata": {
    "execution": {
     "iopub.execute_input": "2025-02-15T19:37:56.310469Z",
     "iopub.status.busy": "2025-02-15T19:37:56.310066Z",
     "iopub.status.idle": "2025-02-15T19:37:56.700621Z",
     "shell.execute_reply": "2025-02-15T19:37:56.699521Z"
    },
    "papermill": {
     "duration": 0.403741,
     "end_time": "2025-02-15T19:37:56.702390",
     "exception": false,
     "start_time": "2025-02-15T19:37:56.298649",
     "status": "completed"
    },
    "tags": []
   },
   "outputs": [
    {
     "name": "stdout",
     "output_type": "stream",
     "text": [
      "Updated Model MAE: 0.18336775989454254\n",
      "Final Features Used: ['ip_reputation_score', 'login_attempts', 'failed_logins', 'browser_type_Edge', 'browser_type_Firefox', 'browser_type_Safari', 'browser_type_Unknown']\n"
     ]
    }
   ],
   "source": [
    "# Select the raw features (before encoding)\n",
    "features = ['ip_reputation_score', 'login_attempts', 'failed_logins', 'browser_type']\n",
    "X = df[features]\n",
    "y = df.attack_detected\n",
    "\n",
    "# One-Hot Encode 'browser_type'\n",
    "encoder = OneHotEncoder(handle_unknown=\"ignore\", drop=\"first\")  # Drop first to avoid redundancy\n",
    "X_cat = encoder.fit_transform(X[['browser_type']]).toarray()\n",
    "cat_feature_names = encoder.get_feature_names_out(['browser_type'])\n",
    "\n",
    "# Convert to DataFrame\n",
    "X_cat_df = pd.DataFrame(X_cat, columns=cat_feature_names, index=X.index)\n",
    "\n",
    "# Combine numerical & encoded categorical features\n",
    "X_num = X.drop(columns=['browser_type'])\n",
    "X_final = pd.concat([X_num, X_cat_df], axis=1)\n",
    "\n",
    "# Train-test split\n",
    "X_train, X_test, y_train, y_test = train_test_split(X_final, y, test_size=0.2, random_state=42)\n",
    "\n",
    "# Train the updated model\n",
    "model = XGBRegressor(n_estimators=500, learning_rate=0.01, max_depth=7, random_state=42)\n",
    "model.fit(X_train, y_train)\n",
    "\n",
    "# Evaluate the model\n",
    "y_pred = model.predict(X_test)\n",
    "mae = mean_absolute_error(y_test, y_pred)\n",
    "\n",
    "print(\"Updated Model MAE:\", mae)\n",
    "print(\"Final Features Used:\", list(X_final.columns))\n"
   ]
  },
  {
   "cell_type": "markdown",
   "id": "b5910776",
   "metadata": {
    "papermill": {
     "duration": 0.010442,
     "end_time": "2025-02-15T19:37:56.723995",
     "exception": false,
     "start_time": "2025-02-15T19:37:56.713553",
     "status": "completed"
    },
    "tags": []
   },
   "source": [
    "# Takeaways\n",
    "\n",
    "Here are the key takeaways from our workflow:  \n",
    "\n",
    "### **1. Feature Selection & Preprocessing Matter**  \n",
    "- Initial feature selection was guided by a heatmap, identifying key predictors of attack detection.  \n",
    "- Categorical variables were transformed using **one-hot encoding**, ensuring they could be effectively used in the model.  \n",
    "- **StandardScaler** was applied to numerical features for consistency in scaling.  \n",
    "\n",
    "### **2. Model Performance & Baseline Comparison**  \n",
    "- The **XGBRegressor** significantly outperformed the baseline model, reducing the **MAE from 0.4950 to 0.1845**.  \n",
    "- Hyperparameter tuning via **GridSearchCV** and **RandomizedSearchCV** helped fine-tune the model, further improving performance.  \n",
    "\n",
    "### **3. Feature Importance & Explainability**  \n",
    "- **SHAP analysis** provided deeper interpretability, showing how individual features influence predictions.  \n",
    "- Unlike the correlation heatmap, SHAP values **capture non-linear interactions** and reveal individual feature contributions to model decisions.  \n",
    "\n",
    "### **4. Refinement & Model Optimization**  \n",
    "- Using SHAP insights, we **simplified feature selection** by keeping only the most impactful variables.  \n",
    "- The updated model, trained on refined features, **achieved an MAE of 0.1834**, showing that reducing unnecessary features **did not harm performance**.  \n",
    "\n",
    "### **5. Next Steps**  \n",
    "- Further **feature engineering** could enhance model performance.  \n",
    "- Exploring **alternative models** (e.g., LightGBM, CatBoost) may yield better results.  \n",
    "- **Real-world validation** on unseen data is necessary before deployment.  \n",
    "\n",
    "This workflow ensures an efficient, explainable, and high-performing model for attack detection. "
   ]
  }
 ],
 "metadata": {
  "kaggle": {
   "accelerator": "none",
   "dataSources": [
    {
     "datasetId": 6637476,
     "sourceId": 10709688,
     "sourceType": "datasetVersion"
    }
   ],
   "dockerImageVersionId": 30886,
   "isGpuEnabled": false,
   "isInternetEnabled": true,
   "language": "python",
   "sourceType": "notebook"
  },
  "kernelspec": {
   "display_name": "Python 3",
   "language": "python",
   "name": "python3"
  },
  "language_info": {
   "codemirror_mode": {
    "name": "ipython",
    "version": 3
   },
   "file_extension": ".py",
   "mimetype": "text/x-python",
   "name": "python",
   "nbconvert_exporter": "python",
   "pygments_lexer": "ipython3",
   "version": "3.10.12"
  },
  "papermill": {
   "default_parameters": {},
   "duration": 78.677994,
   "end_time": "2025-02-15T19:37:59.341526",
   "environment_variables": {},
   "exception": null,
   "input_path": "__notebook__.ipynb",
   "output_path": "__notebook__.ipynb",
   "parameters": {},
   "start_time": "2025-02-15T19:36:40.663532",
   "version": "2.6.0"
  }
 },
 "nbformat": 4,
 "nbformat_minor": 5
}
